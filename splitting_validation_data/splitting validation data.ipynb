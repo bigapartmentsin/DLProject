{
 "cells": [
  {
   "cell_type": "code",
   "execution_count": 14,
   "metadata": {
    "collapsed": true
   },
   "outputs": [],
   "source": [
    "import random\n",
    "import itertools"
   ]
  },
  {
   "cell_type": "code",
   "execution_count": 10,
   "metadata": {
    "collapsed": false
   },
   "outputs": [],
   "source": [
    "with open(\"meteor-1.5/valid.title.txt\", \"r\") as f:\n",
    "    data = f.readlines()"
   ]
  },
  {
   "cell_type": "code",
   "execution_count": 11,
   "metadata": {
    "collapsed": false
   },
   "outputs": [
    {
     "data": {
      "text/plain": [
       "189651"
      ]
     },
     "execution_count": 11,
     "metadata": {},
     "output_type": "execute_result"
    }
   ],
   "source": [
    "len(data)"
   ]
  },
  {
   "cell_type": "code",
   "execution_count": 19,
   "metadata": {
    "collapsed": false
   },
   "outputs": [],
   "source": [
    "titles = open(\"meteor-1.5/valid.title.txt\", 'rb')\n",
    "articles = open(\"meteor-1.5/valid.article.txt\", 'rb')\n",
    "\n",
    "validation_titles = open(\"validation.title.txt\", 'wb')\n",
    "validation_articles = open(\"validation.article.txt\", 'wb')\n",
    "\n",
    "test_titles = open(\"test.title.txt\", 'wb')\n",
    "test_articles = open(\"test.article.txt\", 'wb')\n",
    "\n",
    "for title, article in zip(titles, articles):\n",
    "    r = random.random()\n",
    "    if r < 0.5:\n",
    "        test_titles.write(title)\n",
    "        test_articles.write(article)\n",
    "    else:\n",
    "        validation_titles.write(title)\n",
    "        validation_articles.write(article)\n",
    "test_titles.close()\n",
    "validation_titles.close()\n",
    "test_articles.close()\n",
    "validation_articles.close()"
   ]
  }
 ],
 "metadata": {
  "kernelspec": {
   "display_name": "Python 3",
   "language": "python",
   "name": "python3"
  },
  "language_info": {
   "codemirror_mode": {
    "name": "ipython",
    "version": 3
   },
   "file_extension": ".py",
   "mimetype": "text/x-python",
   "name": "python",
   "nbconvert_exporter": "python",
   "pygments_lexer": "ipython3",
   "version": "3.6.0"
  }
 },
 "nbformat": 4,
 "nbformat_minor": 2
}
